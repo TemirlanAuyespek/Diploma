{
 "cells": [
  {
   "cell_type": "code",
   "execution_count": 1,
   "metadata": {},
   "outputs": [],
   "source": [
    "import numpy as np\n",
    "import os\n",
    "import cv2\n",
    "import sklearn\n",
    "from sklearn.model_selection import train_test_split\n",
    "\n",
    "DATADIR = \"C:/Users/User/Documents/Temirlan/part2\"\n",
    "CATEGORIES = [\"1\",\"2\",\"3\",\"4\",\"5\",\"6\",\"7\",\"8\",\"9\",\"10\",\"11\",\"12\",\"13\",\"14\",\"15\",\"16\"]\n",
    "\n",
    "IMG_SIZE_LENGTH = 540\n",
    "IMG_SIZE_WIDTH = 90\n",
    "\n",
    "training_data = []\n",
    "\n",
    "def create_training_data():\n",
    "    for category in CATEGORIES:\n",
    "\n",
    "        path = os.path.join(DATADIR,category)\n",
    "        class_num = CATEGORIES.index(category)\n",
    "\n",
    "        for img in os.listdir(path): \n",
    "            try:\n",
    "                img_array = cv2.imread(os.path.join(path,img) ,cv2.IMREAD_GRAYSCALE)\n",
    "                training_data.append([img_array, class_num])\n",
    "            except Exception as e:\n",
    "                pass"
   ]
  },
  {
   "cell_type": "code",
   "execution_count": 2,
   "metadata": {},
   "outputs": [],
   "source": [
    "create_training_data()\n",
    "\n",
    "X = []\n",
    "y = []\n",
    "\n",
    "for features,label in training_data:\n",
    "    X.append(features)\n",
    "    y.append(label)"
   ]
  },
  {
   "cell_type": "code",
   "execution_count": 4,
   "metadata": {},
   "outputs": [
    {
     "name": "stdout",
     "output_type": "stream",
     "text": [
      "38416\n"
     ]
    }
   ],
   "source": [
    "print(len(X))"
   ]
  },
  {
   "cell_type": "code",
   "execution_count": 5,
   "metadata": {},
   "outputs": [],
   "source": [
    "X = np.array(X).reshape(-1, IMG_SIZE_WIDTH, IMG_SIZE_LENGTH,1)"
   ]
  },
  {
   "cell_type": "code",
   "execution_count": 12,
   "metadata": {},
   "outputs": [],
   "source": [
    "for i in range(38416):\n",
    "    X[i] = X[i]/239.0\n",
    "    "
   ]
  },
  {
   "cell_type": "code",
   "execution_count": 18,
   "metadata": {},
   "outputs": [
    {
     "name": "stderr",
     "output_type": "stream",
     "text": [
      "Using TensorFlow backend.\n"
     ]
    }
   ],
   "source": [
    "from keras.utils import to_categorical\n",
    "\n",
    "encoded = to_categorical(y)"
   ]
  },
  {
   "cell_type": "code",
   "execution_count": 19,
   "metadata": {},
   "outputs": [
    {
     "name": "stdout",
     "output_type": "stream",
     "text": [
      "[1. 0. 0. 0. 0. 0. 0. 0. 0. 0. 0. 0. 0. 0. 0. 0.]\n"
     ]
    }
   ],
   "source": [
    "print(encoded[0])"
   ]
  },
  {
   "cell_type": "code",
   "execution_count": 20,
   "metadata": {},
   "outputs": [],
   "source": [
    "X_train, X_test, y_train, y_test = train_test_split(X, encoded, test_size=0.2, stratify = encoded)"
   ]
  },
  {
   "cell_type": "code",
   "execution_count": 21,
   "metadata": {},
   "outputs": [
    {
     "name": "stdout",
     "output_type": "stream",
     "text": [
      "WARNING:tensorflow:From C:\\Users\\User\\Anaconda3\\envs\\tf-gpu1\\lib\\site-packages\\tensorflow\\python\\framework\\op_def_library.py:263: colocate_with (from tensorflow.python.framework.ops) is deprecated and will be removed in a future version.\n",
      "Instructions for updating:\n",
      "Colocations handled automatically by placer.\n",
      "_________________________________________________________________\n",
      "Layer (type)                 Output Shape              Param #   \n",
      "=================================================================\n",
      "conv2d_1 (Conv2D)            (None, 86, 536, 32)       832       \n",
      "_________________________________________________________________\n",
      "max_pooling2d_1 (MaxPooling2 (None, 43, 268, 32)       0         \n",
      "_________________________________________________________________\n",
      "conv2d_2 (Conv2D)            (None, 39, 264, 32)       25632     \n",
      "_________________________________________________________________\n",
      "max_pooling2d_2 (MaxPooling2 (None, 19, 132, 32)       0         \n",
      "_________________________________________________________________\n",
      "conv2d_3 (Conv2D)            (None, 15, 128, 32)       25632     \n",
      "_________________________________________________________________\n",
      "max_pooling2d_3 (MaxPooling2 (None, 7, 64, 32)         0         \n",
      "_________________________________________________________________\n",
      "flatten_1 (Flatten)          (None, 14336)             0         \n",
      "_________________________________________________________________\n",
      "dense_1 (Dense)              (None, 128)               1835136   \n",
      "_________________________________________________________________\n",
      "dense_2 (Dense)              (None, 16)                2064      \n",
      "=================================================================\n",
      "Total params: 1,889,296\n",
      "Trainable params: 1,889,296\n",
      "Non-trainable params: 0\n",
      "_________________________________________________________________\n"
     ]
    }
   ],
   "source": [
    "import keras\n",
    "from keras import models \n",
    "from keras import layers\n",
    "from keras import optimizers\n",
    "from keras.datasets import mnist\n",
    "from keras.models import Sequential\n",
    "from keras.layers import Dense, Dropout\n",
    "from keras.layers import Flatten,  MaxPooling2D, Conv2D\n",
    "from keras.callbacks import TensorBoard\n",
    "\n",
    "model = models.Sequential()\n",
    "\n",
    "model.add(layers.convolutional.Conv2D(32, (5, 5), activation = 'relu', input_shape = (90,540,1)))\n",
    "model.add(layers.MaxPooling2D((2, 2)))\n",
    "\n",
    "model.add(layers.convolutional.Conv2D(32, (5, 5), activation = 'relu'))\n",
    "model.add(layers.MaxPooling2D((2, 2)))\n",
    "\n",
    "model.add(layers.convolutional.Conv2D(32, (5, 5), activation = 'relu'))\n",
    "model.add(layers.MaxPooling2D((2, 2)))\n",
    "\n",
    "\n",
    "model.add(layers.Flatten())\n",
    "model.add(layers.Dense(128, activation = 'relu'))\n",
    "\n",
    "model.add(layers.Dense(16, activation = 'softmax'))\n",
    "\n",
    "model.compile(loss='categorical_crossentropy',\n",
    "              optimizer=optimizers.RMSprop(lr=1e-4),\n",
    "              metrics=['accuracy'])\n",
    "\n",
    "model.summary()"
   ]
  },
  {
   "cell_type": "code",
   "execution_count": 22,
   "metadata": {},
   "outputs": [
    {
     "name": "stdout",
     "output_type": "stream",
     "text": [
      "WARNING:tensorflow:From C:\\Users\\User\\Anaconda3\\envs\\tf-gpu1\\lib\\site-packages\\tensorflow\\python\\ops\\math_ops.py:3066: to_int32 (from tensorflow.python.ops.math_ops) is deprecated and will be removed in a future version.\n",
      "Instructions for updating:\n",
      "Use tf.cast instead.\n",
      "Train on 30732 samples, validate on 7684 samples\n",
      "Epoch 1/15\n",
      "30732/30732 [==============================] - 170s 6ms/step - loss: 0.1774 - acc: 0.9518 - val_loss: 0.0035 - val_acc: 0.9987\n",
      "Epoch 2/15\n",
      "30732/30732 [==============================] - 102s 3ms/step - loss: 0.0014 - acc: 0.9996 - val_loss: 1.2392e-04 - val_acc: 1.0000\n",
      "Epoch 3/15\n",
      "30732/30732 [==============================] - 101s 3ms/step - loss: 6.1510e-04 - acc: 0.9998 - val_loss: 1.1405e-06 - val_acc: 1.0000\n",
      "Epoch 4/15\n",
      "30732/30732 [==============================] - 101s 3ms/step - loss: 2.3749e-04 - acc: 1.0000 - val_loss: 3.8440e-07 - val_acc: 1.0000\n",
      "Epoch 5/15\n",
      "30732/30732 [==============================] - 102s 3ms/step - loss: 1.5799e-07 - acc: 1.0000 - val_loss: 1.5716e-07 - val_acc: 1.0000\n",
      "Epoch 6/15\n",
      "30732/30732 [==============================] - 102s 3ms/step - loss: 1.1964e-07 - acc: 1.0000 - val_loss: 1.3561e-07 - val_acc: 1.0000\n",
      "Epoch 7/15\n",
      "30732/30732 [==============================] - 102s 3ms/step - loss: 1.1921e-07 - acc: 1.0000 - val_loss: 1.3300e-07 - val_acc: 1.0000\n",
      "Epoch 8/15\n",
      "30732/30732 [==============================] - 102s 3ms/step - loss: 1.1921e-07 - acc: 1.0000 - val_loss: 1.3300e-07 - val_acc: 1.0000\n",
      "Epoch 9/15\n",
      "30732/30732 [==============================] - 102s 3ms/step - loss: 1.1921e-07 - acc: 1.0000 - val_loss: 1.3300e-07 - val_acc: 1.0000\n",
      "Epoch 10/15\n",
      "30732/30732 [==============================] - 102s 3ms/step - loss: 1.1921e-07 - acc: 1.0000 - val_loss: 1.3300e-07 - val_acc: 1.0000\n",
      "Epoch 11/15\n",
      "30732/30732 [==============================] - 102s 3ms/step - loss: 1.1921e-07 - acc: 1.0000 - val_loss: 1.3300e-07 - val_acc: 1.0000\n",
      "Epoch 12/15\n",
      "30732/30732 [==============================] - 102s 3ms/step - loss: 1.1921e-07 - acc: 1.0000 - val_loss: 1.3300e-07 - val_acc: 1.0000\n",
      "Epoch 13/15\n",
      "30732/30732 [==============================] - 102s 3ms/step - loss: 1.1921e-07 - acc: 1.0000 - val_loss: 1.3300e-07 - val_acc: 1.0000\n",
      "Epoch 14/15\n",
      "30732/30732 [==============================] - 102s 3ms/step - loss: 1.1921e-07 - acc: 1.0000 - val_loss: 1.3300e-07 - val_acc: 1.0000\n",
      "Epoch 15/15\n",
      "30732/30732 [==============================] - 102s 3ms/step - loss: 1.1921e-07 - acc: 1.0000 - val_loss: 1.3300e-07 - val_acc: 1.00001921\n"
     ]
    }
   ],
   "source": [
    "history = model.fit(X_train, y_train, batch_size=32, epochs=15, validation_data = (X_test, y_test))"
   ]
  },
  {
   "cell_type": "code",
   "execution_count": 24,
   "metadata": {},
   "outputs": [
    {
     "data": {
      "image/png": "[encoded data removed]",
      "text/plain": [
       "<Figure size 432x288 with 1 Axes>"
      ]
     },
     "metadata": {
      "needs_background": "light"
     },
     "output_type": "display_data"
    }
   ],
   "source": [
    "import matplotlib.pyplot as plt\n",
    "\n",
    "acc = history.history['acc']\n",
    "val_acc = history.history['val_acc']\n",
    "loss = history.history['loss']\n",
    "val_loss = history.history['val_loss']\n",
    "\n",
    "\n",
    "epochs = range(1, 16) \n",
    "\n",
    "plt.plot(epochs, loss, 'bo', label = 'Training loss') \n",
    "plt.plot(epochs, val_loss, 'b', label = 'Validation loss') \n",
    "plt.title('Training and Validation loss') \n",
    "plt.xlabel('Epochs') \n",
    "plt.ylabel('Loss') \n",
    "plt.legend() \n",
    "\n",
    "plt.show() "
   ]
  },
  {
   "cell_type": "code",
   "execution_count": 25,
   "metadata": {},
   "outputs": [
    {
     "data": {
      "image/png": "[encoded data removed]",
      "text/plain": [
       "<Figure size 432x288 with 1 Axes>"
      ]
     },
     "metadata": {
      "needs_background": "light"
     },
     "output_type": "display_data"
    }
   ],
   "source": [
    "plt.plot(epochs, acc, 'bo', label = 'Training acc') \n",
    "plt.plot(epochs, val_acc, 'b', label = 'Validation acc') \n",
    "plt.title('Training and Validation accuracy') \n",
    "plt.xlabel('Epochs') \n",
    "plt.ylabel('Accuracy') \n",
    "plt.legend() \n",
    "\n",
    "plt.show()"
   ]
  },
  {
   "cell_type": "code",
   "execution_count": null,
   "metadata": {},
   "outputs": [],
   "source": []
  }
 ],
 "metadata": {
  "kernelspec": {
   "display_name": "TFGPU",
   "language": "python",
   "name": "tf-gpu1"
  },
  "language_info": {
   "codemirror_mode": {
    "name": "ipython",
    "version": 3
   },
   "file_extension": ".py",
   "mimetype": "text/x-python",
   "name": "python",
   "nbconvert_exporter": "python",
   "pygments_lexer": "ipython3",
   "version": "3.6.8"
  }
 },
 "nbformat": 4,
 "nbformat_minor": 2
}
