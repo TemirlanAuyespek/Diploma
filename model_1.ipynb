{
 "cells": [
  {
   "cell_type": "code",
   "execution_count": 1,
   "metadata": {},
   "outputs": [],
   "source": [
    "import numpy as np\n",
    "import os\n",
    "import cv2\n",
    "import sklearn\n",
    "from sklearn.model_selection import train_test_split\n",
    "\n",
    "DATADIR = \"C:/Users/User/Documents/Temirlan/dataset\"\n",
    "CATEGORIES = [\"0\",\"1\",\"2\",\"3\",\"4\",\"5\",\"6\",\"7\",\"8\",\"9\",\"10\",\"11\",\"12\",\"13\",\"14\",\"15\",\"16\",\"17\",\"18\",\"19\",\"20\",\"21\",\"22\",\"23\",\"24\",\"25\",\"26\",\"27\",\"28\",\"29\",\"30\",\"31\",\"32\",\"33\",\"34\",\"35\",\"36\",\"37\",\"38\",\"39\",\"40\",\"41\"]\n",
    "\n",
    "IMG_SIZE_LENGTH = 480\n",
    "IMG_SIZE_WIDTH = 60\n",
    "\n",
    "training_data = []\n",
    "\n",
    "def create_training_data():\n",
    "    for category in CATEGORIES:\n",
    "\n",
    "        path = os.path.join(DATADIR,category)\n",
    "        class_num = CATEGORIES.index(category)\n",
    "\n",
    "        for img in os.listdir(path): \n",
    "            try:\n",
    "                img_array = cv2.imread(os.path.join(path,img) ,cv2.IMREAD_GRAYSCALE) \n",
    "                new_array = cv2.resize(img_array, (IMG_SIZE_LENGTH, IMG_SIZE_WIDTH))\n",
    "                training_data.append([new_array, class_num])\n",
    "            except Exception as e:\n",
    "                pass"
   ]
  },
  {
   "cell_type": "code",
   "execution_count": 2,
   "metadata": {},
   "outputs": [],
   "source": [
    "create_training_data()\n",
    "\n",
    "X = []\n",
    "y = []\n",
    "\n",
    "for features,label in training_data:\n",
    "    X.append(features)\n",
    "    y.append(label)\n",
    "\n",
    "X = np.array(X).reshape(-1, IMG_SIZE_WIDTH, IMG_SIZE_LENGTH, 1)\n",
    "X = X/255.0\n",
    "\n",
    "SIZE = (18840,42)\n",
    "\n",
    "Y = np.zeros(SIZE)\n",
    "\n",
    "for i in range(18840):\n",
    "    Y[i][y[i]] = 1\n",
    "    \n",
    "    \n",
    "    \n",
    "X_train, X_test, y_train, y_test = train_test_split(X, Y, test_size=0.2, stratify = Y)"
   ]
  },
  {
   "cell_type": "code",
   "execution_count": 3,
   "metadata": {},
   "outputs": [
    {
     "name": "stderr",
     "output_type": "stream",
     "text": [
      "Using TensorFlow backend.\n"
     ]
    },
    {
     "name": "stdout",
     "output_type": "stream",
     "text": [
      "WARNING:tensorflow:From C:\\Users\\User\\Anaconda3\\envs\\tf-gpu1\\lib\\site-packages\\tensorflow\\python\\framework\\op_def_library.py:263: colocate_with (from tensorflow.python.framework.ops) is deprecated and will be removed in a future version.\n",
      "Instructions for updating:\n",
      "Colocations handled automatically by placer.\n",
      "_________________________________________________________________\n",
      "Layer (type)                 Output Shape              Param #   \n",
      "=================================================================\n",
      "conv2d_1 (Conv2D)            (None, 56, 476, 32)       832       \n",
      "_________________________________________________________________\n",
      "max_pooling2d_1 (MaxPooling2 (None, 28, 238, 32)       0         \n",
      "_________________________________________________________________\n",
      "conv2d_2 (Conv2D)            (None, 24, 234, 32)       25632     \n",
      "_________________________________________________________________\n",
      "max_pooling2d_2 (MaxPooling2 (None, 12, 117, 32)       0         \n",
      "_________________________________________________________________\n",
      "conv2d_3 (Conv2D)            (None, 8, 113, 64)        51264     \n",
      "_________________________________________________________________\n",
      "max_pooling2d_3 (MaxPooling2 (None, 4, 56, 64)         0         \n",
      "_________________________________________________________________\n",
      "flatten_1 (Flatten)          (None, 14336)             0         \n",
      "_________________________________________________________________\n",
      "dense_1 (Dense)              (None, 256)               3670272   \n",
      "_________________________________________________________________\n",
      "dense_2 (Dense)              (None, 42)                10794     \n",
      "=================================================================\n",
      "Total params: 3,758,794\n",
      "Trainable params: 3,758,794\n",
      "Non-trainable params: 0\n",
      "_________________________________________________________________\n",
      "WARNING:tensorflow:From C:\\Users\\User\\Anaconda3\\envs\\tf-gpu1\\lib\\site-packages\\tensorflow\\python\\ops\\math_ops.py:3066: to_int32 (from tensorflow.python.ops.math_ops) is deprecated and will be removed in a future version.\n",
      "Instructions for updating:\n",
      "Use tf.cast instead.\n",
      "Train on 15072 samples, validate on 3768 samples\n",
      "Epoch 1/15\n",
      "15072/15072 [==============================] - 632s 42ms/step - loss: 3.4011 - acc: 0.0843 - val_loss: 3.0623 - val_acc: 0.1359\n",
      "Epoch 2/15\n",
      "15072/15072 [==============================] - 99s 7ms/step - loss: 2.9432 - acc: 0.1768 - val_loss: 2.8303 - val_acc: 0.2105\n",
      "Epoch 3/15\n",
      "15072/15072 [==============================] - 71s 5ms/step - loss: 2.5846 - acc: 0.2696 - val_loss: 2.4784 - val_acc: 0.3012\n",
      "Epoch 4/15\n",
      "15072/15072 [==============================] - 70s 5ms/step - loss: 2.1971 - acc: 0.3688 - val_loss: 2.3466 - val_acc: 0.3410\n",
      "Epoch 5/15\n",
      "15072/15072 [==============================] - 75s 5ms/step - loss: 1.8707 - acc: 0.4605 - val_loss: 2.0642 - val_acc: 0.4193\n",
      "Epoch 6/15\n",
      "15072/15072 [==============================] - 77s 5ms/step - loss: 1.5824 - acc: 0.5448 - val_loss: 1.8500 - val_acc: 0.4796\n",
      "Epoch 7/15\n",
      "15072/15072 [==============================] - 79s 5ms/step - loss: 1.3284 - acc: 0.6130 - val_loss: 1.7483 - val_acc: 0.5127\n",
      "Epoch 8/15\n",
      "15072/15072 [==============================] - 76s 5ms/step - loss: 1.1125 - acc: 0.6797 - val_loss: 1.6959 - val_acc: 0.5289\n",
      "Epoch 9/15\n",
      "15072/15072 [==============================] - 75s 5ms/step - loss: 0.9127 - acc: 0.7345 - val_loss: 1.6863 - val_acc: 0.5433\n",
      "Epoch 10/15\n",
      "15072/15072 [==============================] - 78s 5ms/step - loss: 0.7422 - acc: 0.7855 - val_loss: 1.6242 - val_acc: 0.5687\n",
      "Epoch 11/15\n",
      "15072/15072 [==============================] - 78s 5ms/step - loss: 0.5911 - acc: 0.8286 - val_loss: 1.6406 - val_acc: 0.5886\n",
      "Epoch 12/15\n",
      "15072/15072 [==============================] - 77s 5ms/step - loss: 0.4650 - acc: 0.8670 - val_loss: 1.7241 - val_acc: 0.5849\n",
      "Epoch 13/15\n",
      "15072/15072 [==============================] - 79s 5ms/step - loss: 0.3640 - acc: 0.8943 - val_loss: 1.8896 - val_acc: 0.5656\n",
      "Epoch 14/15\n",
      "15072/15072 [==============================] - 79s 5ms/step - loss: 0.2794 - acc: 0.9208 - val_loss: 1.8918 - val_acc: 0.5905\n",
      "Epoch 15/15\n",
      "15072/15072 [==============================] - 79s 5ms/step - loss: 0.2187 - acc: 0.9386 - val_loss: 1.9580 - val_acc: 0.5886\n"
     ]
    }
   ],
   "source": [
    "import keras\n",
    "from keras import models \n",
    "from keras import layers\n",
    "from keras import optimizers\n",
    "from keras.datasets import mnist\n",
    "from keras.models import Sequential\n",
    "from keras.layers import Dense, Dropout\n",
    "from keras.layers import Flatten,  MaxPooling2D, Conv2D\n",
    "from keras.callbacks import TensorBoard\n",
    "\n",
    "model = models.Sequential()\n",
    "\n",
    "model.add(layers.convolutional.Conv2D(32, (5, 5), activation = 'relu', input_shape = (60,480,1)))\n",
    "model.add(layers.MaxPooling2D((2, 2)))\n",
    "\n",
    "model.add(layers.convolutional.Conv2D(32, (5, 5), activation = 'relu'))\n",
    "model.add(layers.MaxPooling2D((2, 2)))\n",
    "\n",
    "model.add(layers.convolutional.Conv2D(64, (5, 5), activation = 'relu'))\n",
    "model.add(layers.MaxPooling2D((2, 2)))\n",
    "\n",
    "\n",
    "model.add(layers.Flatten())\n",
    "model.add(layers.Dense(256, activation = 'relu'))\n",
    "\n",
    "model.add(layers.Dense(42, activation = 'softmax'))\n",
    "\n",
    "model.compile(loss='categorical_crossentropy',\n",
    "              optimizer=optimizers.RMSprop(lr=1e-4),\n",
    "              metrics=['accuracy'])\n",
    "\n",
    "model.summary()\n",
    "\n",
    "history = model.fit(X_train, y_train, batch_size=32, epochs=15, validation_data = (X_test, y_test))"
   ]
  },
  {
   "cell_type": "code",
   "execution_count": 5,
   "metadata": {},
   "outputs": [
    {
     "data": {
      "image/png": "[encoded data removed]",
      "text/plain": [
       "<Figure size 432x288 with 1 Axes>"
      ]
     },
     "metadata": {
      "needs_background": "light"
     },
     "output_type": "display_data"
    }
   ],
   "source": [
    "import matplotlib.pyplot as plt\n",
    "\n",
    "acc = history.history['acc']\n",
    "val_acc = history.history['val_acc']\n",
    "loss = history.history['loss']\n",
    "val_loss = history.history['val_loss']\n",
    "\n",
    "\n",
    "epochs = range(1, 16) \n",
    "\n",
    "plt.plot(epochs, loss, 'bo', label = 'Training loss') \n",
    "plt.plot(epochs, val_loss, 'b', label = 'Validation loss') \n",
    "plt.title('Training and Validation loss') \n",
    "plt.xlabel('Epochs') \n",
    "plt.ylabel('Loss') \n",
    "plt.legend() \n",
    "\n",
    "plt.show() "
   ]
  },
  {
   "cell_type": "code",
   "execution_count": 6,
   "metadata": {},
   "outputs": [
    {
     "data": {
      "image/png": "[encoded data removed]",
      "text/plain": [
       "<Figure size 432x288 with 1 Axes>"
      ]
     },
     "metadata": {
      "needs_background": "light"
     },
     "output_type": "display_data"
    }
   ],
   "source": [
    "plt.plot(epochs, acc, 'bo', label = 'Training acc') \n",
    "plt.plot(epochs, val_acc, 'b', label = 'Validation acc') \n",
    "plt.title('Training and Validation accuracy') \n",
    "plt.xlabel('Epochs') \n",
    "plt.ylabel('Accuracy') \n",
    "plt.legend() \n",
    "\n",
    "plt.show()"
   ]
  },
  {
   "cell_type": "code",
   "execution_count": null,
   "metadata": {},
   "outputs": [],
   "source": []
  },
  {
   "cell_type": "code",
   "execution_count": null,
   "metadata": {},
   "outputs": [],
   "source": []
  },
  {
   "cell_type": "code",
   "execution_count": null,
   "metadata": {},
   "outputs": [],
   "source": []
  }
 ],
 "metadata": {
  "kernelspec": {
   "display_name": "TFGPU",
   "language": "python",
   "name": "tf-gpu1"
  },
  "language_info": {
   "codemirror_mode": {
    "name": "ipython",
    "version": 3
   },
   "file_extension": ".py",
   "mimetype": "text/x-python",
   "name": "python",
   "nbconvert_exporter": "python",
   "pygments_lexer": "ipython3",
   "version": "3.6.8"
  }
 },
 "nbformat": 4,
 "nbformat_minor": 2
}
