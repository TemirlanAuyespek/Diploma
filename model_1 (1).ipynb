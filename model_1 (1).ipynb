{
 "cells": [
  {
   "cell_type": "code",
   "execution_count": 1,
   "metadata": {},
   "outputs": [],
   "source": [
    "import numpy as np\n",
    "import os\n",
    "import cv2\n",
    "import sklearn\n",
    "from sklearn.model_selection import train_test_split\n",
    "\n",
    "DATADIR = \"C:/Users/User/Documents/Temirlan/dataset\"\n",
    "CATEGORIES = [\"0\",\"1\",\"2\",\"3\",\"4\",\"5\",\"6\",\"7\",\"8\",\"9\",\"10\",\"11\",\"12\",\"13\",\"14\",\"15\",\"16\",\"17\",\"18\",\"19\",\"20\",\"21\",\"22\",\"23\",\"24\",\"25\",\"26\",\"27\",\"28\",\"29\",\"30\",\"31\",\"32\",\"33\",\"34\",\"35\",\"36\",\"37\",\"38\",\"39\",\"40\",\"41\"]\n",
    "\n",
    "IMG_SIZE_LENGTH = 480\n",
    "IMG_SIZE_WIDTH = 60\n",
    "\n",
    "training_data = []\n",
    "\n",
    "def create_training_data():\n",
    "    for category in CATEGORIES:\n",
    "\n",
    "        path = os.path.join(DATADIR,category)\n",
    "        class_num = CATEGORIES.index(category)\n",
    "\n",
    "        for img in os.listdir(path): \n",
    "            try:\n",
    "                img_array = cv2.imread(os.path.join(path,img) ,cv2.IMREAD_GRAYSCALE) \n",
    "                new_array = cv2.resize(img_array, (IMG_SIZE_LENGTH, IMG_SIZE_WIDTH))\n",
    "                training_data.append([new_array, class_num])\n",
    "            except Exception as e:\n",
    "                pass"
   ]
  },
  {
   "cell_type": "code",
   "execution_count": 2,
   "metadata": {},
   "outputs": [],
   "source": [
    "create_training_data()\n",
    "\n",
    "X = []\n",
    "y = []\n",
    "\n",
    "for features,label in training_data:\n",
    "    X.append(features)\n",
    "    y.append(label)"
   ]
  },
  {
   "cell_type": "code",
   "execution_count": 3,
   "metadata": {},
   "outputs": [],
   "source": [
    "X = np.array(X).reshape(-1, IMG_SIZE_WIDTH, IMG_SIZE_LENGTH, 1)"
   ]
  },
  {
   "cell_type": "code",
   "execution_count": 4,
   "metadata": {},
   "outputs": [],
   "source": [
    "for i in range(len(X)):\n",
    "    X[i] = X[i]/255.0"
   ]
  },
  {
   "cell_type": "code",
   "execution_count": 5,
   "metadata": {},
   "outputs": [
    {
     "name": "stderr",
     "output_type": "stream",
     "text": [
      "Using TensorFlow backend.\n"
     ]
    }
   ],
   "source": [
    "from keras.utils import to_categorical\n",
    "\n",
    "encoded = to_categorical(y)"
   ]
  },
  {
   "cell_type": "code",
   "execution_count": 6,
   "metadata": {},
   "outputs": [
    {
     "name": "stdout",
     "output_type": "stream",
     "text": [
      "[1. 0. 0. 0. 0. 0. 0. 0. 0. 0. 0. 0. 0. 0. 0. 0. 0. 0. 0. 0. 0. 0. 0. 0.\n",
      " 0. 0. 0. 0. 0. 0. 0. 0. 0. 0. 0. 0. 0. 0. 0. 0. 0. 0.]\n"
     ]
    }
   ],
   "source": [
    "print(encoded[0])"
   ]
  },
  {
   "cell_type": "code",
   "execution_count": 7,
   "metadata": {},
   "outputs": [],
   "source": [
    "X_train, X_test, y_train, y_test = train_test_split(X, encoded, test_size=0.2, stratify = encoded)"
   ]
  },
  {
   "cell_type": "code",
   "execution_count": 8,
   "metadata": {},
   "outputs": [
    {
     "name": "stdout",
     "output_type": "stream",
     "text": [
      "WARNING:tensorflow:From C:\\Users\\User\\Anaconda3\\envs\\tf-gpu1\\lib\\site-packages\\tensorflow\\python\\framework\\op_def_library.py:263: colocate_with (from tensorflow.python.framework.ops) is deprecated and will be removed in a future version.\n",
      "Instructions for updating:\n",
      "Colocations handled automatically by placer.\n",
      "_________________________________________________________________\n",
      "Layer (type)                 Output Shape              Param #   \n",
      "=================================================================\n",
      "conv2d_1 (Conv2D)            (None, 56, 476, 32)       832       \n",
      "_________________________________________________________________\n",
      "max_pooling2d_1 (MaxPooling2 (None, 28, 238, 32)       0         \n",
      "_________________________________________________________________\n",
      "conv2d_2 (Conv2D)            (None, 24, 234, 32)       25632     \n",
      "_________________________________________________________________\n",
      "max_pooling2d_2 (MaxPooling2 (None, 12, 117, 32)       0         \n",
      "_________________________________________________________________\n",
      "conv2d_3 (Conv2D)            (None, 8, 113, 64)        51264     \n",
      "_________________________________________________________________\n",
      "max_pooling2d_3 (MaxPooling2 (None, 4, 56, 64)         0         \n",
      "_________________________________________________________________\n",
      "flatten_1 (Flatten)          (None, 14336)             0         \n",
      "_________________________________________________________________\n",
      "dense_1 (Dense)              (None, 256)               3670272   \n",
      "_________________________________________________________________\n",
      "dense_2 (Dense)              (None, 42)                10794     \n",
      "=================================================================\n",
      "Total params: 3,758,794\n",
      "Trainable params: 3,758,794\n",
      "Non-trainable params: 0\n",
      "_________________________________________________________________\n"
     ]
    }
   ],
   "source": [
    "import keras\n",
    "from keras import models \n",
    "from keras import layers\n",
    "from keras import optimizers\n",
    "from keras.datasets import mnist\n",
    "from keras.models import Sequential\n",
    "from keras.layers import Dense, Dropout\n",
    "from keras.layers import Flatten,  MaxPooling2D, Conv2D\n",
    "from keras.callbacks import TensorBoard\n",
    "from keras import regularizers\n",
    "\n",
    "model = models.Sequential()\n",
    "\n",
    "model.add(layers.convolutional.Conv2D(32, (5, 5), activation = 'relu', input_shape = (60,480,1)))\n",
    "model.add(layers.MaxPooling2D((2, 2)))\n",
    "\n",
    "model.add(layers.convolutional.Conv2D(32, (5, 5), activation = 'relu'))\n",
    "model.add(layers.MaxPooling2D((2, 2)))\n",
    "\n",
    "model.add(layers.convolutional.Conv2D(64, (5, 5), activation = 'relu'))\n",
    "model.add(layers.MaxPooling2D((2, 2)))\n",
    "\n",
    "\n",
    "model.add(layers.Flatten())\n",
    "\n",
    "model.add(layers.Dense(256, kernel_regularizer = regularizers.l2(0.001), activation = 'relu'))\n",
    "\n",
    "model.add(layers.Dense(42, kernel_regularizer = regularizers.l2(0.001), activation = 'softmax'))\n",
    "\n",
    "model.compile(loss='categorical_crossentropy',\n",
    "              optimizer=optimizers.RMSprop(lr=1e-4),\n",
    "              metrics=['accuracy'])\n",
    "\n",
    "model.summary()"
   ]
  },
  {
   "cell_type": "code",
   "execution_count": 9,
   "metadata": {},
   "outputs": [
    {
     "name": "stdout",
     "output_type": "stream",
     "text": [
      "WARNING:tensorflow:From C:\\Users\\User\\Anaconda3\\envs\\tf-gpu1\\lib\\site-packages\\tensorflow\\python\\ops\\math_ops.py:3066: to_int32 (from tensorflow.python.ops.math_ops) is deprecated and will be removed in a future version.\n",
      "Instructions for updating:\n",
      "Use tf.cast instead.\n",
      "Train on 15072 samples, validate on 3768 samples\n",
      "Epoch 1/15\n",
      "15072/15072 [==============================] - 35s 2ms/step - loss: 3.5120 - acc: 0.1175 - val_loss: 3.0961 - val_acc: 0.2009\n",
      "Epoch 2/15\n",
      "15072/15072 [==============================] - 31s 2ms/step - loss: 2.7914 - acc: 0.2728 - val_loss: 2.5884 - val_acc: 0.3240\n",
      "Epoch 3/15\n",
      "15072/15072 [==============================] - 31s 2ms/step - loss: 2.2166 - acc: 0.4209 - val_loss: 2.2998 - val_acc: 0.4050\n",
      "Epoch 4/15\n",
      "15072/15072 [==============================] - 31s 2ms/step - loss: 1.7683 - acc: 0.5484 - val_loss: 2.0283 - val_acc: 0.4862ss: 1.7708 - acc: 0.547 - ETA: 1s - loss: 1.7705 - acc: 0.54 - ETA: 1s - loss: 1.7\n",
      "Epoch 5/15\n",
      "15072/15072 [==============================] - 31s 2ms/step - loss: 1.4235 - acc: 0.6451 - val_loss: 1.9094 - val_acc: 0.5188\n",
      "Epoch 6/15\n",
      "15072/15072 [==============================] - 31s 2ms/step - loss: 1.1473 - acc: 0.7280 - val_loss: 1.8895 - val_acc: 0.5454\n",
      "Epoch 7/15\n",
      "15072/15072 [==============================] - 31s 2ms/step - loss: 0.9259 - acc: 0.7887 - val_loss: 1.9232 - val_acc: 0.5533\n",
      "Epoch 8/15\n",
      "15072/15072 [==============================] - 31s 2ms/step - loss: 0.7446 - acc: 0.8437 - val_loss: 1.9373 - val_acc: 0.5597\n",
      "Epoch 9/15\n",
      "15072/15072 [==============================] - 31s 2ms/step - loss: 0.6062 - acc: 0.8842 - val_loss: 2.0457 - val_acc: 0.5735\n",
      "Epoch 10/15\n",
      "15072/15072 [==============================] - 31s 2ms/step - loss: 0.4960 - acc: 0.9179 - val_loss: 2.3638 - val_acc: 0.5425\n",
      "Epoch 11/15\n",
      "15072/15072 [==============================] - 31s 2ms/step - loss: 0.4136 - acc: 0.9416 - val_loss: 2.3816 - val_acc: 0.5594\n",
      "Epoch 12/15\n",
      "15072/15072 [==============================] - 31s 2ms/step - loss: 0.3625 - acc: 0.9561 - val_loss: 2.4380 - val_acc: 0.5770\n",
      "Epoch 13/15\n",
      "15072/15072 [==============================] - 31s 2ms/step - loss: 0.3199 - acc: 0.9678 - val_loss: 2.5910 - val_acc: 0.5576\n",
      "Epoch 14/15\n",
      "15072/15072 [==============================] - 31s 2ms/step - loss: 0.2982 - acc: 0.9728 - val_loss: 2.6984 - val_acc: 0.5669\n",
      "Epoch 15/15\n",
      "15072/15072 [==============================] - 31s 2ms/step - loss: 0.2743 - acc: 0.9795 - val_loss: 2.8983 - val_acc: 0.5597\n"
     ]
    }
   ],
   "source": [
    "history = model.fit(X_train, y_train, batch_size=32, epochs=15, validation_data = (X_test, y_test))"
   ]
  },
  {
   "cell_type": "code",
   "execution_count": 11,
   "metadata": {},
   "outputs": [
    {
     "data": {
      "image/png": "[encoded data removed]",
      "text/plain": [
       "<Figure size 432x288 with 1 Axes>"
      ]
     },
     "metadata": {
      "needs_background": "light"
     },
     "output_type": "display_data"
    }
   ],
   "source": [
    "import matplotlib.pyplot as plt\n",
    "\n",
    "acc = history.history['acc']\n",
    "val_acc = history.history['val_acc']\n",
    "loss = history.history['loss']\n",
    "val_loss = history.history['val_loss']\n",
    "\n",
    "\n",
    "epochs = range(1, 16) \n",
    "\n",
    "plt.plot(epochs, loss, 'bo', label = 'Training loss') \n",
    "plt.plot(epochs, val_loss, 'b', label = 'Validation loss') \n",
    "plt.title('Training and Validation loss') \n",
    "plt.xlabel('Epochs') \n",
    "plt.ylabel('Loss') \n",
    "plt.legend() \n",
    "\n",
    "plt.show() "
   ]
  },
  {
   "cell_type": "code",
   "execution_count": 12,
   "metadata": {},
   "outputs": [
    {
     "data": {
      "image/png": "[encoded data removed]",
      "text/plain": [
       "<Figure size 432x288 with 1 Axes>"
      ]
     },
     "metadata": {
      "needs_background": "light"
     },
     "output_type": "display_data"
    }
   ],
   "source": [
    "plt.plot(epochs, acc, 'bo', label = 'Training acc') \n",
    "plt.plot(epochs, val_acc, 'b', label = 'Validation acc') \n",
    "plt.title('Training and Validation accuracy') \n",
    "plt.xlabel('Epochs') \n",
    "plt.ylabel('Accuracy') \n",
    "plt.legend() \n",
    "\n",
    "plt.show()"
   ]
  },
  {
   "cell_type": "code",
   "execution_count": null,
   "metadata": {},
   "outputs": [],
   "source": []
  },
  {
   "cell_type": "code",
   "execution_count": null,
   "metadata": {},
   "outputs": [],
   "source": []
  },
  {
   "cell_type": "code",
   "execution_count": null,
   "metadata": {},
   "outputs": [],
   "source": []
  }
 ],
 "metadata": {
  "kernelspec": {
   "display_name": "TFGPU",
   "language": "python",
   "name": "tf-gpu1"
  },
  "language_info": {
   "codemirror_mode": {
    "name": "ipython",
    "version": 3
   },
   "file_extension": ".py",
   "mimetype": "text/x-python",
   "name": "python",
   "nbconvert_exporter": "python",
   "pygments_lexer": "ipython3",
   "version": "3.6.8"
  }
 },
 "nbformat": 4,
 "nbformat_minor": 2
}
